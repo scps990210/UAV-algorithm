{
 "cells": [
  {
   "cell_type": "code",
   "execution_count": 12,
   "id": "7344d846",
   "metadata": {},
   "outputs": [],
   "source": [
    "import random\n",
    "import math\n",
    "\n",
    "user = 100\n",
    "add_flag = 0\n",
    "latmin = 24.7900\n",
    "latmax = 24.7935\n",
    "lonmin = 120.9975\n",
    "lonmax = 121.002\n",
    "smax = 1.2 #1.2m/0.03s\n",
    "smin = 0.6 #0.6m/0.03s\n",
    "lamax = 0.9\n",
    "lamin = 0.3\n",
    "lomax = 0.9\n",
    "lomin = 0.3\n",
    "f= open(\"users_6G2.txt\",\"w+\")\n",
    "lat = [0]*300\n",
    "lon = [0]*300\n",
    "count_num = 0\n",
    "for i in range(user):   # 0~99\n",
    "    laspeed = random.uniform(lamin, lamax)\n",
    "    lospeed = random.uniform(lomin, lomax)\n",
    "    #speed[i] = math.sqrt(pow(laspeed,2)+pow(lospeed,2))\n",
    "    lat[i] = random.uniform(latmin, latmax)\n",
    "    lon[i] = random.uniform(lonmin, lonmax)\n",
    "    f.write(\"%f\\n\" %(lat[i]))\n",
    "    f.write(\"%f\\n\" %(lon[i]))\n",
    "    f.write(\"%f\\n\" %(laspeed))\n",
    "    f.write(\"%f\\n\" %(lospeed))\n",
    "    f.write(\"%f\\n\" %(add_flag))\n",
    "for j in range(1000):\n",
    "    for i in range(user):\n",
    "        count_num += 1\n",
    "        if count_num < 100:\n",
    "            lat[i] = lat[i] + laspeed*0.000009\n",
    "            lon[i] = lon[i] + lospeed*0.000009\n",
    "        else:\n",
    "            count_num = 0\n",
    "            laspeed = random.uniform(lamin, lamax)\n",
    "            lospeed = random.uniform(lomin, lomax)\n",
    "            lat[i] = lat[i] + laspeed*0.000009\n",
    "            lon[i] = lon[i] + lospeed*0.000009\n",
    "            \n",
    "        \n",
    "        f.write(\"%f\\n\" %(lat[i]))\n",
    "        f.write(\"%f\\n\" %(lon[i]))\n",
    "        f.write(\"%f\\n\" %(laspeed))\n",
    "        f.write(\"%f\\n\" %(lospeed))\n",
    "        f.write(\"%f\\n\" %(add_flag))\n",
    "        \n",
    "    add_flag = random.uniform(0,1)\n",
    "    if add_flag < 0.2:\n",
    "        user += 1\n",
    "\n",
    "f.close()"
   ]
  },
  {
   "cell_type": "code",
   "execution_count": null,
   "id": "12662f7d",
   "metadata": {},
   "outputs": [],
   "source": []
  }
 ],
 "metadata": {
  "kernelspec": {
   "display_name": "Python 3 (ipykernel)",
   "language": "python",
   "name": "python3"
  },
  "language_info": {
   "codemirror_mode": {
    "name": "ipython",
    "version": 3
   },
   "file_extension": ".py",
   "mimetype": "text/x-python",
   "name": "python",
   "nbconvert_exporter": "python",
   "pygments_lexer": "ipython3",
   "version": "3.9.12"
  }
 },
 "nbformat": 4,
 "nbformat_minor": 5
}
